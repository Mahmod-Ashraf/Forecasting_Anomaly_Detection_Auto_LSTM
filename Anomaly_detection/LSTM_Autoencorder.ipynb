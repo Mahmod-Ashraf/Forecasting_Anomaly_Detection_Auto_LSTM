{
 "cells": [
  {
   "cell_type": "markdown",
   "metadata": {},
   "source": [
    "# Anomaly detection"
   ]
  },
  {
   "cell_type": "code",
   "execution_count": 1,
   "metadata": {},
   "outputs": [],
   "source": [
    "import matplotlib.pyplot as plt\n",
    "import numpy as np\n",
    "import time\n",
    "import math\n",
    "import tensorflow as tf\n",
    "import keras\n",
    "from keras import optimizers, Sequential\n",
    "from keras.models import Model\n",
    "from keras.utils.vis_utils import plot_model\n",
    "from keras.layers import Dense, LSTM, RepeatVector, TimeDistributed\n",
    "from keras.callbacks import ModelCheckpoint, TensorBoard\n",
    "import numpy as np\n",
    "from numpy import arange, sin, pi, random\n",
    "from sklearn.metrics import precision_recall_curve\n",
    "from sklearn.metrics import precision_score\n",
    "from sklearn.metrics import recall_score\n",
    "from sklearn.metrics import f1_score\n",
    "from sklearn.metrics import accuracy_score\n",
    "from sklearn.model_selection import train_test_split\n",
    "import scipy.integrate as integrate\n",
    "from sklearn.preprocessing import StandardScaler\n",
    "from sklearn.metrics import confusion_matrix, precision_recall_curve\n",
    "from sklearn.metrics import recall_score, classification_report, auc, roc_curve\n",
    "from sklearn.metrics import precision_recall_fscore_support, f1_score\n",
    "from sklearn.neighbors._kde import KernelDensity\n",
    "from sklearn.model_selection import GridSearchCV\n",
    "from scipy.stats import pearsonr\n",
    "\n",
    "np.random.seed(1234)  \n",
    "PYTHONHASHSEED = 0\n",
    "\n",
    "from sklearn import preprocessing\n",
    "from sklearn.metrics import confusion_matrix, recall_score, precision_score\n",
    "from keras.models import Sequential\n",
    "from keras.layers import Dense, Dropout, LSTM, Activation\n",
    "%matplotlib inline"
   ]
  },
  {
   "cell_type": "markdown",
   "metadata": {},
   "source": [
    "## Read Train and Test Data"
   ]
  },
  {
   "cell_type": "code",
   "execution_count": 2,
   "metadata": {},
   "outputs": [],
   "source": [
    "def gen_wave():\n",
    "    \"\"\" Generate a synthetic data\n",
    "    :return: the final data\n",
    "    \"\"\"\n",
    "    t = np.arange(0.0, 100.0, 0.01)\n",
    "    wave1 = sin(2 * 2 * pi * t)\n",
    "    noise = random.normal(0, 0.2, len(t))\n",
    "    wave1 = wave1 + noise\n",
    "    print(\"wave1\", len(wave1))\n",
    "    wave2 = sin(2 * pi * t)\n",
    "    print(\"wave2\", len(wave2))\n",
    "    t_rider = arange(0.0, 5.0, 0.01)\n",
    "    wave3 = -2*sin(10 * pi * t_rider)\n",
    "    print(\"wave3\", len(wave3))\n",
    "    insert = round(0.8 * len(t))\n",
    "    wave1[insert:insert + 500] = wave1[insert:insert + 500] + wave3\n",
    "    return wave1 - 2*wave2"
   ]
  },
  {
   "cell_type": "code",
   "execution_count": 3,
   "metadata": {},
   "outputs": [],
   "source": [
    "def z_norm(result):\n",
    "    result_mean = result.mean()\n",
    "    result_std = result.std()\n",
    "    result -= result_mean\n",
    "    result /= result_std\n",
    "    return result, result_mean"
   ]
  },
  {
   "cell_type": "code",
   "execution_count": 4,
   "metadata": {},
   "outputs": [],
   "source": [
    "def get_split_prep_data(train_start, train_end,\n",
    "                          test_start, test_end):\n",
    "    data = gen_wave()\n",
    "    print(\"Length of Data\", len(data))\n",
    "\n",
    "    # train data\n",
    "    print (\"Creating train data...\")\n",
    "\n",
    "    result = []\n",
    "    for index in range(train_start, train_end - sequence_length):\n",
    "        result.append(data[index: index + sequence_length])\n",
    "    result = np.array(result)  # shape (samples, sequence_length)\n",
    "    result, result_mean = z_norm(result)\n",
    "\n",
    "    print (\"Mean of train data : \", result_mean)\n",
    "    print (\"Train data shape  : \", result.shape)\n",
    "\n",
    "    train = result[train_start:train_end, :]\n",
    "    np.random.shuffle(train)  # shuffles in-place\n",
    "    X_train = train[:, :-1]\n",
    "    y_train = train[:, -1]\n",
    "\n",
    "    # test data\n",
    "    print (\"Creating test data...\")\n",
    "\n",
    "    result = []\n",
    "    for index in range(test_start, test_end - sequence_length):\n",
    "        result.append(data[index: index + sequence_length])\n",
    "    result = np.array(result)  # shape (samples, sequence_length)\n",
    "    result, result_mean = z_norm(result)\n",
    "\n",
    "    print (\"Mean of test data : \", result_mean)\n",
    "    print (\"Test data shape  : \", result.shape)\n",
    "\n",
    "    X_test = result[:, :-1]\n",
    "    y_test = result[:, -1]\n",
    "\n",
    "    print(\"Shape X_train\", np.shape(X_train))\n",
    "    print(\"Shape X_test\", np.shape(X_test))\n",
    "\n",
    "    X_train = np.reshape(X_train, (X_train.shape[0], X_train.shape[1], 1))\n",
    "    X_test = np.reshape(X_test, (X_test.shape[0], X_test.shape[1], 1))\n",
    "\n",
    "    return X_train, y_train, X_test, y_test"
   ]
  },
  {
   "cell_type": "code",
   "execution_count": 5,
   "metadata": {},
   "outputs": [],
   "source": [
    "def flatten(X):\n",
    "    '''\n",
    "    Flatten a 3D array.\n",
    "    \n",
    "    Input\n",
    "    X            A 3D array for lstm, where the array is sample x sequence length x features.\n",
    "    \n",
    "    Output\n",
    "    flattened_X  A 2D array, sample x features.\n",
    "    '''\n",
    "    flattened_X = np.empty((X.shape[0], X.shape[2]))  # sample x features array.\n",
    "    for i in range(X.shape[0]):\n",
    "        flattened_X[i] = X[i, (X.shape[1]-1), :]\n",
    "    return(flattened_X)           \n",
    "            \n"
   ]
  },
  {
   "cell_type": "code",
   "execution_count": 6,
   "metadata": {},
   "outputs": [],
   "source": [
    "def kde_sklearn(x, bandwidth=0.2, **kwargs):\n",
    "\tx_grid = np.linspace(x.min() - 0.9*x.min(), x.max() + x.max(), 500)\n",
    "\t\"\"\"Kernel Density Estimation with Scikit-learn\"\"\"\n",
    "\tkde_skl = KernelDensity(bandwidth=bandwidth, **kwargs)\n",
    "\tkde_skl.fit(x[:, np.newaxis])\n",
    "\t# score_samples() returns the log-likelihood of the samples\n",
    "\tlog_pdf = kde_skl.score_samples(x_grid[:, np.newaxis])\n",
    "\treturn np.exp(log_pdf), x_grid\n",
    "   \n",
    "def FindThreshold(x,h,p):\n",
    "    tau=0\n",
    "    x.sort() \n",
    "    for i in range(len(x)):\n",
    "        int_K = integrate.quad(lambda s: (1/(h*np.sqrt(2*np.pi)))*np.exp(-0.5*(s-p)/h), (i-1)/len(x), i/len(x))\n",
    "        tau=tau+int_K[0]*x[i]\n",
    "    return tau"
   ]
  },
  {
   "cell_type": "code",
   "execution_count": 7,
   "metadata": {
    "scrolled": true
   },
   "outputs": [
    {
     "name": "stdout",
     "output_type": "stream",
     "text": [
      "wave1 10000\n",
      "wave2 10000\n",
      "wave3 500\n",
      "Length of Data 10000\n",
      "Creating train data...\n",
      "Mean of train data :  0.004477792402900583\n",
      "Train data shape  :  (6988, 11)\n",
      "Creating test data...\n",
      "Mean of test data :  0.0005497895275597728\n",
      "Test data shape  :  (2989, 11)\n",
      "Shape X_train (6988, 10)\n",
      "Shape X_test (2989, 10)\n"
     ]
    }
   ],
   "source": [
    "# train on first 7000 samples and test on next 3000 samples (has anomaly)\n",
    "sequence_length = 11\n",
    "DATA_SPLIT_PCT = 0.2\n",
    "SEED = 123 #used to help randomly select the data points\n",
    "batch_size = 50\n",
    "epochs = 3\n",
    "X_train,y_train, X_test, y_test = get_split_prep_data(0, 6999, 7000, 10000)\n",
    "X_train_X, X_valid = train_test_split(X_train, test_size=DATA_SPLIT_PCT, random_state=SEED)\n",
    "timesteps =  X_train.shape[1] # equal to the sequence_length\n",
    "n_features =  X_train.shape[2] # 1"
   ]
  },
  {
   "cell_type": "code",
   "execution_count": 8,
   "metadata": {
    "scrolled": false
   },
   "outputs": [
    {
     "name": "stdout",
     "output_type": "stream",
     "text": [
      "Running with 16 LSTM cells and learning rate = 0.0001 ...\n",
      "Model: \"sequential\"\n",
      "_________________________________________________________________\n",
      "Layer (type)                 Output Shape              Param #   \n",
      "=================================================================\n",
      "lstm (LSTM)                  (None, 10, 100)           40800     \n",
      "_________________________________________________________________\n",
      "lstm_1 (LSTM)                (None, 25)                12600     \n",
      "_________________________________________________________________\n",
      "repeat_vector (RepeatVector) (None, 10, 25)            0         \n",
      "_________________________________________________________________\n",
      "lstm_2 (LSTM)                (None, 10, 25)            5100      \n",
      "_________________________________________________________________\n",
      "lstm_3 (LSTM)                (None, 10, 100)           50400     \n",
      "_________________________________________________________________\n",
      "time_distributed (TimeDistri (None, 10, 1)             101       \n",
      "=================================================================\n",
      "Total params: 109,001\n",
      "Trainable params: 109,001\n",
      "Non-trainable params: 0\n",
      "_________________________________________________________________\n",
      "Epoch 1/3\n",
      "140/140 - 12s - loss: 0.8258 - val_loss: 0.4553\n",
      "Epoch 2/3\n",
      "140/140 - 5s - loss: 0.2857 - val_loss: 0.1615\n",
      "Epoch 3/3\n",
      "140/140 - 5s - loss: 0.0759 - val_loss: 0.0421\n",
      "Predicting...\n"
     ]
    },
    {
     "name": "stderr",
     "output_type": "stream",
     "text": [
      "C:\\Users\\hp\\anaconda3\\lib\\site-packages\\sklearn\\model_selection\\_search.py:918: UserWarning: One or more of the test scores are non-finite: [         nan 519.61017889 375.85623834 267.87682221 182.03198974\n",
      " 111.56571711  52.17456358   1.00905468 -43.85548165 -83.76006077]\n",
      "  warnings.warn(\n"
     ]
    },
    {
     "name": "stdout",
     "output_type": "stream",
     "text": [
      "Running with 16 LSTM cells and learning rate = 0.001 ...\n",
      "Model: \"sequential_1\"\n",
      "_________________________________________________________________\n",
      "Layer (type)                 Output Shape              Param #   \n",
      "=================================================================\n",
      "lstm_4 (LSTM)                (None, 10, 100)           40800     \n",
      "_________________________________________________________________\n",
      "lstm_5 (LSTM)                (None, 25)                12600     \n",
      "_________________________________________________________________\n",
      "repeat_vector_1 (RepeatVecto (None, 10, 25)            0         \n",
      "_________________________________________________________________\n",
      "lstm_6 (LSTM)                (None, 10, 25)            5100      \n",
      "_________________________________________________________________\n",
      "lstm_7 (LSTM)                (None, 10, 100)           50400     \n",
      "_________________________________________________________________\n",
      "time_distributed_1 (TimeDist (None, 10, 1)             101       \n",
      "=================================================================\n",
      "Total params: 109,001\n",
      "Trainable params: 109,001\n",
      "Non-trainable params: 0\n",
      "_________________________________________________________________\n",
      "Epoch 1/3\n",
      "140/140 - 11s - loss: 0.2902 - val_loss: 0.0509\n",
      "Epoch 2/3\n",
      "140/140 - 5s - loss: 0.0297 - val_loss: 0.0236\n",
      "Epoch 3/3\n",
      "140/140 - 5s - loss: 0.0170 - val_loss: 0.0169\n",
      "Predicting...\n"
     ]
    },
    {
     "name": "stderr",
     "output_type": "stream",
     "text": [
      "C:\\Users\\hp\\anaconda3\\lib\\site-packages\\sklearn\\model_selection\\_search.py:918: UserWarning: One or more of the test scores are non-finite: [         nan 617.61439224 423.90161306 294.16515432 198.1926825\n",
      " 122.41466796  59.92751507   6.81095283 -39.35766288 -80.17479798]\n",
      "  warnings.warn(\n"
     ]
    },
    {
     "name": "stdout",
     "output_type": "stream",
     "text": [
      "Running with 16 LSTM cells and learning rate = 0.01 ...\n",
      "Model: \"sequential_2\"\n",
      "_________________________________________________________________\n",
      "Layer (type)                 Output Shape              Param #   \n",
      "=================================================================\n",
      "lstm_8 (LSTM)                (None, 10, 100)           40800     \n",
      "_________________________________________________________________\n",
      "lstm_9 (LSTM)                (None, 25)                12600     \n",
      "_________________________________________________________________\n",
      "repeat_vector_2 (RepeatVecto (None, 10, 25)            0         \n",
      "_________________________________________________________________\n",
      "lstm_10 (LSTM)               (None, 10, 25)            5100      \n",
      "_________________________________________________________________\n",
      "lstm_11 (LSTM)               (None, 10, 100)           50400     \n",
      "_________________________________________________________________\n",
      "time_distributed_2 (TimeDist (None, 10, 1)             101       \n",
      "=================================================================\n",
      "Total params: 109,001\n",
      "Trainable params: 109,001\n",
      "Non-trainable params: 0\n",
      "_________________________________________________________________\n",
      "Epoch 1/3\n",
      "140/140 - 12s - loss: 215.8987 - val_loss: 0.0376\n",
      "Epoch 2/3\n",
      "140/140 - 5s - loss: 0.0258 - val_loss: 0.0213\n",
      "Epoch 3/3\n",
      "140/140 - 5s - loss: 0.0142 - val_loss: 0.0132\n",
      "Predicting...\n"
     ]
    },
    {
     "name": "stderr",
     "output_type": "stream",
     "text": [
      "C:\\Users\\hp\\anaconda3\\lib\\site-packages\\sklearn\\model_selection\\_search.py:918: UserWarning: One or more of the test scores are non-finite: [         nan 645.71468951 434.09640603 299.16723069 201.13281332\n",
      " 124.34188208  61.28524091   7.81774489 -38.58198086 -79.55918552]\n",
      "  warnings.warn(\n"
     ]
    },
    {
     "name": "stdout",
     "output_type": "stream",
     "text": [
      "Running with 32 LSTM cells and learning rate = 0.0001 ...\n",
      "Model: \"sequential_3\"\n",
      "_________________________________________________________________\n",
      "Layer (type)                 Output Shape              Param #   \n",
      "=================================================================\n",
      "lstm_12 (LSTM)               (None, 10, 100)           40800     \n",
      "_________________________________________________________________\n",
      "lstm_13 (LSTM)               (None, 25)                12600     \n",
      "_________________________________________________________________\n",
      "repeat_vector_3 (RepeatVecto (None, 10, 25)            0         \n",
      "_________________________________________________________________\n",
      "lstm_14 (LSTM)               (None, 10, 25)            5100      \n",
      "_________________________________________________________________\n",
      "lstm_15 (LSTM)               (None, 10, 100)           50400     \n",
      "_________________________________________________________________\n",
      "time_distributed_3 (TimeDist (None, 10, 1)             101       \n",
      "=================================================================\n",
      "Total params: 109,001\n",
      "Trainable params: 109,001\n",
      "Non-trainable params: 0\n",
      "_________________________________________________________________\n",
      "Epoch 1/3\n",
      "140/140 - 12s - loss: 0.8557 - val_loss: 0.4736\n",
      "Epoch 2/3\n",
      "140/140 - 5s - loss: 0.3194 - val_loss: 0.1136\n",
      "Epoch 3/3\n",
      "140/140 - 5s - loss: 0.0598 - val_loss: 0.0432\n",
      "Predicting...\n"
     ]
    },
    {
     "name": "stderr",
     "output_type": "stream",
     "text": [
      "C:\\Users\\hp\\anaconda3\\lib\\site-packages\\sklearn\\model_selection\\_search.py:918: UserWarning: One or more of the test scores are non-finite: [         nan 489.98193476 356.93464873 255.46449192 173.74702491\n",
      " 105.75077141  47.89697932  -2.25856468 -46.42741875 -85.83388669]\n",
      "  warnings.warn(\n"
     ]
    },
    {
     "name": "stdout",
     "output_type": "stream",
     "text": [
      "Running with 32 LSTM cells and learning rate = 0.001 ...\n",
      "Model: \"sequential_4\"\n",
      "_________________________________________________________________\n",
      "Layer (type)                 Output Shape              Param #   \n",
      "=================================================================\n",
      "lstm_16 (LSTM)               (None, 10, 100)           40800     \n",
      "_________________________________________________________________\n",
      "lstm_17 (LSTM)               (None, 25)                12600     \n",
      "_________________________________________________________________\n",
      "repeat_vector_4 (RepeatVecto (None, 10, 25)            0         \n",
      "_________________________________________________________________\n",
      "lstm_18 (LSTM)               (None, 10, 25)            5100      \n",
      "_________________________________________________________________\n",
      "lstm_19 (LSTM)               (None, 10, 100)           50400     \n",
      "_________________________________________________________________\n",
      "time_distributed_4 (TimeDist (None, 10, 1)             101       \n",
      "=================================================================\n",
      "Total params: 109,001\n",
      "Trainable params: 109,001\n",
      "Non-trainable params: 0\n",
      "_________________________________________________________________\n",
      "Epoch 1/3\n",
      "140/140 - 12s - loss: 0.2794 - val_loss: 0.0418\n",
      "Epoch 2/3\n",
      "140/140 - 5s - loss: 0.0275 - val_loss: 0.0182\n",
      "Epoch 3/3\n",
      "140/140 - 5s - loss: 0.0156 - val_loss: 0.0136\n",
      "Predicting...\n"
     ]
    },
    {
     "name": "stderr",
     "output_type": "stream",
     "text": [
      "C:\\Users\\hp\\anaconda3\\lib\\site-packages\\sklearn\\model_selection\\_search.py:918: UserWarning: One or more of the test scores are non-finite: [         nan 650.90009706 435.79685786 299.97973399 201.60615057\n",
      " 124.65076925  61.50227067   7.97839595 -38.45835793 -79.46115923]\n",
      "  warnings.warn(\n"
     ]
    },
    {
     "name": "stdout",
     "output_type": "stream",
     "text": [
      "Running with 32 LSTM cells and learning rate = 0.01 ...\n",
      "Model: \"sequential_5\"\n",
      "_________________________________________________________________\n",
      "Layer (type)                 Output Shape              Param #   \n",
      "=================================================================\n",
      "lstm_20 (LSTM)               (None, 10, 100)           40800     \n",
      "_________________________________________________________________\n",
      "lstm_21 (LSTM)               (None, 25)                12600     \n",
      "_________________________________________________________________\n",
      "repeat_vector_5 (RepeatVecto (None, 10, 25)            0         \n",
      "_________________________________________________________________\n",
      "lstm_22 (LSTM)               (None, 10, 25)            5100      \n",
      "_________________________________________________________________\n",
      "lstm_23 (LSTM)               (None, 10, 100)           50400     \n",
      "_________________________________________________________________\n",
      "time_distributed_5 (TimeDist (None, 10, 1)             101       \n",
      "=================================================================\n",
      "Total params: 109,001\n",
      "Trainable params: 109,001\n",
      "Non-trainable params: 0\n",
      "_________________________________________________________________\n",
      "Epoch 1/3\n",
      "140/140 - 12s - loss: 0.2126 - val_loss: 0.0510\n",
      "Epoch 2/3\n",
      "140/140 - 5s - loss: 0.0199 - val_loss: 0.0141\n",
      "Epoch 3/3\n",
      "140/140 - 5s - loss: 0.0140 - val_loss: 0.0130\n",
      "Predicting...\n"
     ]
    },
    {
     "name": "stderr",
     "output_type": "stream",
     "text": [
      "C:\\Users\\hp\\anaconda3\\lib\\site-packages\\sklearn\\model_selection\\_search.py:918: UserWarning: One or more of the test scores are non-finite: [         nan 648.90939371 435.18726643 299.69509449 201.4421594\n",
      " 124.54441491  61.42782511   7.92342331 -38.50059025 -79.49460811]\n",
      "  warnings.warn(\n"
     ]
    },
    {
     "name": "stdout",
     "output_type": "stream",
     "text": [
      "Running with 64 LSTM cells and learning rate = 0.0001 ...\n",
      "Model: \"sequential_6\"\n",
      "_________________________________________________________________\n",
      "Layer (type)                 Output Shape              Param #   \n",
      "=================================================================\n",
      "lstm_24 (LSTM)               (None, 10, 100)           40800     \n",
      "_________________________________________________________________\n",
      "lstm_25 (LSTM)               (None, 25)                12600     \n",
      "_________________________________________________________________\n",
      "repeat_vector_6 (RepeatVecto (None, 10, 25)            0         \n",
      "_________________________________________________________________\n",
      "lstm_26 (LSTM)               (None, 10, 25)            5100      \n",
      "_________________________________________________________________\n",
      "lstm_27 (LSTM)               (None, 10, 100)           50400     \n",
      "_________________________________________________________________\n",
      "time_distributed_6 (TimeDist (None, 10, 1)             101       \n",
      "=================================================================\n",
      "Total params: 109,001\n",
      "Trainable params: 109,001\n",
      "Non-trainable params: 0\n",
      "_________________________________________________________________\n",
      "Epoch 1/3\n",
      "140/140 - 12s - loss: 0.8451 - val_loss: 0.5707\n",
      "Epoch 2/3\n",
      "140/140 - 5s - loss: 0.3321 - val_loss: 0.2189\n",
      "Epoch 3/3\n",
      "140/140 - 5s - loss: 0.1147 - val_loss: 0.0526\n",
      "Predicting...\n"
     ]
    },
    {
     "name": "stderr",
     "output_type": "stream",
     "text": [
      "C:\\Users\\hp\\anaconda3\\lib\\site-packages\\sklearn\\model_selection\\_search.py:918: UserWarning: One or more of the test scores are non-finite: [         nan 478.08234884 350.99402406 252.97702817 172.53247641\n",
      " 105.08139493  47.49705719  -2.51217195 -46.59625637 -85.95101917]\n",
      "  warnings.warn(\n"
     ]
    },
    {
     "name": "stdout",
     "output_type": "stream",
     "text": [
      "Running with 64 LSTM cells and learning rate = 0.001 ...\n",
      "Model: \"sequential_7\"\n",
      "_________________________________________________________________\n",
      "Layer (type)                 Output Shape              Param #   \n",
      "=================================================================\n",
      "lstm_28 (LSTM)               (None, 10, 100)           40800     \n",
      "_________________________________________________________________\n",
      "lstm_29 (LSTM)               (None, 25)                12600     \n",
      "_________________________________________________________________\n",
      "repeat_vector_7 (RepeatVecto (None, 10, 25)            0         \n",
      "_________________________________________________________________\n",
      "lstm_30 (LSTM)               (None, 10, 25)            5100      \n",
      "_________________________________________________________________\n",
      "lstm_31 (LSTM)               (None, 10, 100)           50400     \n",
      "_________________________________________________________________\n",
      "time_distributed_7 (TimeDist (None, 10, 1)             101       \n",
      "=================================================================\n",
      "Total params: 109,001\n",
      "Trainable params: 109,001\n",
      "Non-trainable params: 0\n",
      "_________________________________________________________________\n",
      "Epoch 1/3\n",
      "140/140 - 14s - loss: 0.2845 - val_loss: 0.0531\n",
      "Epoch 2/3\n",
      "140/140 - 5s - loss: 0.0327 - val_loss: 0.0194\n",
      "Epoch 3/3\n",
      "140/140 - 5s - loss: 0.0180 - val_loss: 0.0148\n",
      "Predicting...\n"
     ]
    },
    {
     "name": "stderr",
     "output_type": "stream",
     "text": [
      "C:\\Users\\hp\\anaconda3\\lib\\site-packages\\sklearn\\model_selection\\_search.py:918: UserWarning: One or more of the test scores are non-finite: [         nan 645.02517932 433.88493441 299.06765171 201.07720345\n",
      " 124.30692684  61.26135341   7.80041232 -38.59512695 -79.56949902]\n",
      "  warnings.warn(\n"
     ]
    },
    {
     "name": "stdout",
     "output_type": "stream",
     "text": [
      "Running with 64 LSTM cells and learning rate = 0.01 ...\n",
      "Model: \"sequential_8\"\n",
      "_________________________________________________________________\n",
      "Layer (type)                 Output Shape              Param #   \n",
      "=================================================================\n",
      "lstm_32 (LSTM)               (None, 10, 100)           40800     \n",
      "_________________________________________________________________\n",
      "lstm_33 (LSTM)               (None, 25)                12600     \n",
      "_________________________________________________________________\n",
      "repeat_vector_8 (RepeatVecto (None, 10, 25)            0         \n",
      "_________________________________________________________________\n",
      "lstm_34 (LSTM)               (None, 10, 25)            5100      \n",
      "_________________________________________________________________\n",
      "lstm_35 (LSTM)               (None, 10, 100)           50400     \n",
      "_________________________________________________________________\n",
      "time_distributed_8 (TimeDist (None, 10, 1)             101       \n",
      "=================================================================\n",
      "Total params: 109,001\n",
      "Trainable params: 109,001\n",
      "Non-trainable params: 0\n",
      "_________________________________________________________________\n",
      "Epoch 1/3\n",
      "140/140 - 13s - loss: 20.5627 - val_loss: 0.0791\n",
      "Epoch 2/3\n",
      "140/140 - 5s - loss: 0.0370 - val_loss: 0.0174\n",
      "Epoch 3/3\n",
      "140/140 - 5s - loss: 0.0143 - val_loss: 0.0134\n",
      "Predicting...\n"
     ]
    },
    {
     "name": "stderr",
     "output_type": "stream",
     "text": [
      "C:\\Users\\hp\\anaconda3\\lib\\site-packages\\sklearn\\model_selection\\_search.py:918: UserWarning: One or more of the test scores are non-finite: [         nan 648.93185611 435.23888902 299.73123309 201.46709239\n",
      " 124.56211802  61.44086582   7.93335992 -38.4927976  -79.48834769]\n",
      "  warnings.warn(\n"
     ]
    },
    {
     "name": "stdout",
     "output_type": "stream",
     "text": [
      "Running with 80 LSTM cells and learning rate = 0.0001 ...\n",
      "Model: \"sequential_9\"\n",
      "_________________________________________________________________\n",
      "Layer (type)                 Output Shape              Param #   \n",
      "=================================================================\n",
      "lstm_36 (LSTM)               (None, 10, 100)           40800     \n",
      "_________________________________________________________________\n",
      "lstm_37 (LSTM)               (None, 25)                12600     \n",
      "_________________________________________________________________\n",
      "repeat_vector_9 (RepeatVecto (None, 10, 25)            0         \n",
      "_________________________________________________________________\n",
      "lstm_38 (LSTM)               (None, 10, 25)            5100      \n",
      "_________________________________________________________________\n",
      "lstm_39 (LSTM)               (None, 10, 100)           50400     \n",
      "_________________________________________________________________\n",
      "time_distributed_9 (TimeDist (None, 10, 1)             101       \n",
      "=================================================================\n",
      "Total params: 109,001\n",
      "Trainable params: 109,001\n",
      "Non-trainable params: 0\n",
      "_________________________________________________________________\n",
      "Epoch 1/3\n",
      "140/140 - 12s - loss: 0.8532 - val_loss: 0.4348\n",
      "Epoch 2/3\n",
      "140/140 - 5s - loss: 0.2889 - val_loss: 0.1132\n",
      "Epoch 3/3\n",
      "140/140 - 5s - loss: 0.0664 - val_loss: 0.0443\n",
      "Predicting...\n"
     ]
    },
    {
     "name": "stderr",
     "output_type": "stream",
     "text": [
      "C:\\Users\\hp\\anaconda3\\lib\\site-packages\\sklearn\\model_selection\\_search.py:918: UserWarning: One or more of the test scores are non-finite: [         nan 469.09052854 338.13472477 241.58651251 163.98590304\n",
      "  98.75457146  42.6951246   -6.25548047 -49.58351093 -88.38321976]\n",
      "  warnings.warn(\n"
     ]
    },
    {
     "name": "stdout",
     "output_type": "stream",
     "text": [
      "Running with 80 LSTM cells and learning rate = 0.001 ...\n",
      "Model: \"sequential_10\"\n",
      "_________________________________________________________________\n",
      "Layer (type)                 Output Shape              Param #   \n",
      "=================================================================\n",
      "lstm_40 (LSTM)               (None, 10, 100)           40800     \n",
      "_________________________________________________________________\n",
      "lstm_41 (LSTM)               (None, 25)                12600     \n",
      "_________________________________________________________________\n",
      "repeat_vector_10 (RepeatVect (None, 10, 25)            0         \n",
      "_________________________________________________________________\n",
      "lstm_42 (LSTM)               (None, 10, 25)            5100      \n",
      "_________________________________________________________________\n",
      "lstm_43 (LSTM)               (None, 10, 100)           50400     \n",
      "_________________________________________________________________\n",
      "time_distributed_10 (TimeDis (None, 10, 1)             101       \n",
      "=================================================================\n",
      "Total params: 109,001\n",
      "Trainable params: 109,001\n",
      "Non-trainable params: 0\n",
      "_________________________________________________________________\n",
      "Epoch 1/3\n",
      "140/140 - 12s - loss: 0.3007 - val_loss: 0.0459\n",
      "Epoch 2/3\n",
      "140/140 - 5s - loss: 0.0292 - val_loss: 0.0195\n",
      "Epoch 3/3\n",
      "140/140 - 5s - loss: 0.0161 - val_loss: 0.0147\n",
      "Predicting...\n"
     ]
    },
    {
     "name": "stderr",
     "output_type": "stream",
     "text": [
      "C:\\Users\\hp\\anaconda3\\lib\\site-packages\\sklearn\\model_selection\\_search.py:918: UserWarning: One or more of the test scores are non-finite: [         nan 636.83927554 431.09457735 297.72077722 200.29067837\n",
      " 123.79342736  60.90056584   7.53338077 -38.80058418 -79.73239687]\n",
      "  warnings.warn(\n"
     ]
    },
    {
     "name": "stdout",
     "output_type": "stream",
     "text": [
      "Running with 80 LSTM cells and learning rate = 0.01 ...\n",
      "Model: \"sequential_11\"\n",
      "_________________________________________________________________\n",
      "Layer (type)                 Output Shape              Param #   \n",
      "=================================================================\n",
      "lstm_44 (LSTM)               (None, 10, 100)           40800     \n",
      "_________________________________________________________________\n",
      "lstm_45 (LSTM)               (None, 25)                12600     \n",
      "_________________________________________________________________\n",
      "repeat_vector_11 (RepeatVect (None, 10, 25)            0         \n",
      "_________________________________________________________________\n",
      "lstm_46 (LSTM)               (None, 10, 25)            5100      \n",
      "_________________________________________________________________\n",
      "lstm_47 (LSTM)               (None, 10, 100)           50400     \n",
      "_________________________________________________________________\n",
      "time_distributed_11 (TimeDis (None, 10, 1)             101       \n",
      "=================================================================\n",
      "Total params: 109,001\n",
      "Trainable params: 109,001\n",
      "Non-trainable params: 0\n",
      "_________________________________________________________________\n",
      "Epoch 1/3\n",
      "140/140 - 13s - loss: 3.2817 - val_loss: 0.0641\n",
      "Epoch 2/3\n",
      "140/140 - 5s - loss: 0.0299 - val_loss: 0.0142\n",
      "Epoch 3/3\n",
      "140/140 - 5s - loss: 0.0137 - val_loss: 0.0134\n",
      "Predicting...\n"
     ]
    },
    {
     "name": "stderr",
     "output_type": "stream",
     "text": [
      "C:\\Users\\hp\\anaconda3\\lib\\site-packages\\sklearn\\model_selection\\_search.py:918: UserWarning: One or more of the test scores are non-finite: [         nan 639.04069352 431.97848143 298.1699889  200.5610748\n",
      " 123.97311679  61.02819096   7.62850236 -38.72704993 -79.6739004 ]\n",
      "  warnings.warn(\n"
     ]
    },
    {
     "name": "stdout",
     "output_type": "stream",
     "text": [
      "Running with 96 LSTM cells and learning rate = 0.0001 ...\n",
      "Model: \"sequential_12\"\n",
      "_________________________________________________________________\n",
      "Layer (type)                 Output Shape              Param #   \n",
      "=================================================================\n",
      "lstm_48 (LSTM)               (None, 10, 100)           40800     \n",
      "_________________________________________________________________\n",
      "lstm_49 (LSTM)               (None, 25)                12600     \n",
      "_________________________________________________________________\n",
      "repeat_vector_12 (RepeatVect (None, 10, 25)            0         \n",
      "_________________________________________________________________\n",
      "lstm_50 (LSTM)               (None, 10, 25)            5100      \n",
      "_________________________________________________________________\n",
      "lstm_51 (LSTM)               (None, 10, 100)           50400     \n",
      "_________________________________________________________________\n",
      "time_distributed_12 (TimeDis (None, 10, 1)             101       \n",
      "=================================================================\n",
      "Total params: 109,001\n",
      "Trainable params: 109,001\n",
      "Non-trainable params: 0\n",
      "_________________________________________________________________\n",
      "Epoch 1/3\n",
      "140/140 - 12s - loss: 0.8744 - val_loss: 0.4710\n",
      "Epoch 2/3\n",
      "140/140 - 5s - loss: 0.3348 - val_loss: 0.1821\n",
      "Epoch 3/3\n",
      "140/140 - 5s - loss: 0.0826 - val_loss: 0.0477\n",
      "Predicting...\n"
     ]
    },
    {
     "name": "stderr",
     "output_type": "stream",
     "text": [
      "C:\\Users\\hp\\anaconda3\\lib\\site-packages\\sklearn\\model_selection\\_search.py:918: UserWarning: One or more of the test scores are non-finite: [         nan 502.13749661 369.65934334 265.13067964 180.52994296\n",
      " 110.63789626  51.54700089   0.55568397 -44.19904542 -84.02983643]\n",
      "  warnings.warn(\n"
     ]
    },
    {
     "name": "stdout",
     "output_type": "stream",
     "text": [
      "Running with 96 LSTM cells and learning rate = 0.001 ...\n",
      "Model: \"sequential_13\"\n",
      "_________________________________________________________________\n",
      "Layer (type)                 Output Shape              Param #   \n",
      "=================================================================\n",
      "lstm_52 (LSTM)               (None, 10, 100)           40800     \n",
      "_________________________________________________________________\n",
      "lstm_53 (LSTM)               (None, 25)                12600     \n",
      "_________________________________________________________________\n",
      "repeat_vector_13 (RepeatVect (None, 10, 25)            0         \n",
      "_________________________________________________________________\n",
      "lstm_54 (LSTM)               (None, 10, 25)            5100      \n",
      "_________________________________________________________________\n",
      "lstm_55 (LSTM)               (None, 10, 100)           50400     \n",
      "_________________________________________________________________\n",
      "time_distributed_13 (TimeDis (None, 10, 1)             101       \n",
      "=================================================================\n",
      "Total params: 109,001\n",
      "Trainable params: 109,001\n",
      "Non-trainable params: 0\n",
      "_________________________________________________________________\n",
      "Epoch 1/3\n",
      "140/140 - 12s - loss: 0.2815 - val_loss: 0.0467\n",
      "Epoch 2/3\n",
      "140/140 - 5s - loss: 0.0330 - val_loss: 0.0213\n",
      "Epoch 3/3\n",
      "140/140 - 5s - loss: 0.0189 - val_loss: 0.0204\n",
      "Predicting...\n"
     ]
    },
    {
     "name": "stderr",
     "output_type": "stream",
     "text": [
      "C:\\Users\\hp\\anaconda3\\lib\\site-packages\\sklearn\\model_selection\\_search.py:918: UserWarning: One or more of the test scores are non-finite: [         nan 593.42522705 414.50534709 289.47977187 195.42780634\n",
      " 120.60130943  58.65040929   5.86440689 -40.08659006 -80.75307642]\n",
      "  warnings.warn(\n"
     ]
    },
    {
     "name": "stdout",
     "output_type": "stream",
     "text": [
      "Running with 96 LSTM cells and learning rate = 0.01 ...\n",
      "Model: \"sequential_14\"\n",
      "_________________________________________________________________\n",
      "Layer (type)                 Output Shape              Param #   \n",
      "=================================================================\n",
      "lstm_56 (LSTM)               (None, 10, 100)           40800     \n",
      "_________________________________________________________________\n",
      "lstm_57 (LSTM)               (None, 25)                12600     \n",
      "_________________________________________________________________\n",
      "repeat_vector_14 (RepeatVect (None, 10, 25)            0         \n",
      "_________________________________________________________________\n",
      "lstm_58 (LSTM)               (None, 10, 25)            5100      \n",
      "_________________________________________________________________\n",
      "lstm_59 (LSTM)               (None, 10, 100)           50400     \n",
      "_________________________________________________________________\n",
      "time_distributed_14 (TimeDis (None, 10, 1)             101       \n",
      "=================================================================\n",
      "Total params: 109,001\n",
      "Trainable params: 109,001\n",
      "Non-trainable params: 0\n",
      "_________________________________________________________________\n",
      "Epoch 1/3\n",
      "140/140 - 12s - loss: 1.2296 - val_loss: 0.0759\n",
      "Epoch 2/3\n",
      "140/140 - 5s - loss: 0.0485 - val_loss: 0.0186\n",
      "Epoch 3/3\n",
      "140/140 - 5s - loss: 0.0145 - val_loss: 0.0128\n",
      "Predicting...\n"
     ]
    },
    {
     "name": "stderr",
     "output_type": "stream",
     "text": [
      "C:\\Users\\hp\\anaconda3\\lib\\site-packages\\sklearn\\model_selection\\_search.py:918: UserWarning: One or more of the test scores are non-finite: [         nan 652.78467526 436.37006168 300.24590262 201.75798532\n",
      " 124.74851586  61.57035139   8.02849907 -38.41995719 -79.43079653]\n",
      "  warnings.warn(\n"
     ]
    },
    {
     "name": "stdout",
     "output_type": "stream",
     "text": [
      "Best parameters: 80 and learning rate = 0.0001\n",
      "Wall time: 21min 33s\n"
     ]
    }
   ],
   "source": [
    "%%time\n",
    "import keras\n",
    "import tensorflow\n",
    "from tensorflow.keras.optimizers import Adam, RMSprop\n",
    "\n",
    "results = {}\n",
    "for num_cells in [16, 32, 64,80,96]:\n",
    "    for lr in [1e-4, 1e-3, 1e-2]:\n",
    "            print('Running with', num_cells, \n",
    "                  'LSTM cells', \n",
    "                  'and learning rate =', lr, '...')\n",
    "\n",
    "            # build network\n",
    "            lstm_autoencoder = Sequential()\n",
    "            # Encoder\n",
    "            lstm_autoencoder.add(LSTM(100, activation='relu', input_shape=(timesteps, n_features), return_sequences=True))\n",
    "            lstm_autoencoder.add(LSTM(25, activation='relu', return_sequences=False))\n",
    "            lstm_autoencoder.add(RepeatVector(timesteps))\n",
    "            # Decoder\n",
    "            lstm_autoencoder.add(LSTM(25, activation='relu', return_sequences=True))\n",
    "            lstm_autoencoder.add(LSTM(100, activation='relu', return_sequences=True))\n",
    "            lstm_autoencoder.add(TimeDistributed(Dense(n_features)))\n",
    "            lstm_autoencoder.summary()\n",
    "            adam = tensorflow.keras.optimizers.Adam(lr)\n",
    "            lstm_autoencoder.compile(loss='mse', optimizer=adam)\n",
    "            cp = ModelCheckpoint(filepath=\"lstm_autoencoder_classifier.h5\",\n",
    "                               save_best_only=True,\n",
    "                               verbose=0)\n",
    "            tb = TensorBoard(log_dir='./logs',\n",
    "                histogram_freq=0,\n",
    "                write_graph=True,\n",
    "                write_images=True)\n",
    "            lstm_autoencoder_history = lstm_autoencoder.fit(X_train, X_train, \n",
    "                                                epochs=epochs, \n",
    "                                                batch_size=batch_size, \n",
    "                                                validation_data=(X_valid, X_valid),\n",
    "                                                verbose=2, callbacks = [keras.callbacks.EarlyStopping(monitor='val_loss', min_delta=0, patience=10, verbose=0, mode='auto')]).history\n",
    "            print(\"Predicting...\")\n",
    "            predicted_train = lstm_autoencoder.predict(X_train)\n",
    "            predicted = lstm_autoencoder.predict(X_test)\n",
    "            mse = np.mean(np.power(flatten(X_test) - flatten(predicted), 2), axis=1)\n",
    "            mse_train = np.mean(np.power(flatten(X_train) - flatten(predicted_train), 2), axis=1)\n",
    "            #KDE\n",
    "            # use grid search cross-validation to optimize the bandwidth\n",
    "            params = {'bandwidth': np.linspace(0, 0.5, 10)}\n",
    "            grid = GridSearchCV(KernelDensity(), params, cv = 20)\n",
    "            grid.fit(mse_train[:, None])\n",
    "            h=grid.best_estimator_.bandwidth\n",
    "            tau=FindThreshold(mse_train,h,0.56)\n",
    "            y_test1=np.ones(X_test.shape[0])\n",
    "            y_test1[999:1499]=-1\n",
    "            y_scores=np.ones(X_test.shape[0])\n",
    "            y_scores[(mse-tau)>0]=-1\n",
    "            accuracy_kde = accuracy_score(y_test1, y_scores)\n",
    "            #OCSVM\n",
    "            e=X_train - predicted_train\n",
    "            nsamples, nx, ny = e.shape\n",
    "            d2_e = e.reshape((nsamples,nx*ny))\n",
    "            from sklearn import svm\n",
    "            clf = svm.OneClassSVM(nu=0.0055, kernel=\"rbf\", gamma=1.5)\n",
    "            clf.fit(d2_e)\n",
    "            e_t=X_test - predicted\n",
    "            nsamples, nx, ny = e_t.shape\n",
    "            d2_e_t = e_t.reshape((nsamples,nx*ny))\n",
    "            y_scores = clf.predict(d2_e_t)\n",
    "            accuracy_svm = accuracy_score(y_test1, y_scores)\n",
    "            accuracy= min(accuracy_svm,accuracy_kde)\n",
    "            results[(num_cells, lr)] = {'accuracy': accuracy}       \n",
    "val_results = {key: results[key]['accuracy'] for key in results.keys()}+\n",
    "num_cells, lr = min(val_results, key=val_results.get)\n",
    "print('Best parameters:', num_cells, \n",
    "        'and learning rate =', lr)\n",
    "\n",
    "#Best parameters: num_cells=64,  lr=0.01\n",
    "#num_cells=64\n",
    "#lr = 0.01"
   ]
  },
  {
   "cell_type": "markdown",
   "metadata": {},
   "source": [
    "## Generate Labels for Train Data"
   ]
  },
  {
   "cell_type": "code",
   "execution_count": 9,
   "metadata": {},
   "outputs": [
    {
     "name": "stdout",
     "output_type": "stream",
     "text": [
      "Model: \"sequential_15\"\n",
      "_________________________________________________________________\n",
      "Layer (type)                 Output Shape              Param #   \n",
      "=================================================================\n",
      "lstm_60 (LSTM)               (None, 10, 320)           412160    \n",
      "_________________________________________________________________\n",
      "lstm_61 (LSTM)               (None, 80)                128320    \n",
      "_________________________________________________________________\n",
      "repeat_vector_15 (RepeatVect (None, 10, 80)            0         \n",
      "_________________________________________________________________\n",
      "lstm_62 (LSTM)               (None, 10, 80)            51520     \n",
      "_________________________________________________________________\n",
      "lstm_63 (LSTM)               (None, 10, 320)           513280    \n",
      "_________________________________________________________________\n",
      "time_distributed_15 (TimeDis (None, 10, 1)             321       \n",
      "=================================================================\n",
      "Total params: 1,105,601\n",
      "Trainable params: 1,105,601\n",
      "Non-trainable params: 0\n",
      "_________________________________________________________________\n",
      "Epoch 1/3\n",
      "140/140 - 30s - loss: 0.5586 - val_loss: 0.1973\n",
      "Epoch 2/3\n",
      "140/140 - 21s - loss: 0.0711 - val_loss: 0.0353\n",
      "Epoch 3/3\n",
      "140/140 - 21s - loss: 0.0289 - val_loss: 0.0233\n"
     ]
    },
    {
     "data": {
      "image/png": "[encoded data removed]",
      "text/plain": [
       "<Figure size 432x288 with 1 Axes>"
      ]
     },
     "metadata": {
      "needs_background": "light"
     },
     "output_type": "display_data"
    },
    {
     "name": "stdout",
     "output_type": "stream",
     "text": [
      "Wall time: 1min 13s\n"
     ]
    }
   ],
   "source": [
    "%%time\n",
    "import keras\n",
    "import tensorflow\n",
    "from tensorflow.keras.optimizers import Adam, RMSprop\n",
    "\n",
    "lstm_autoencoder = Sequential()\n",
    "\n",
    "# Encoder\n",
    "lstm_autoencoder.add(LSTM(num_cells*4, activation='relu', input_shape=(timesteps, n_features), return_sequences=True))\n",
    "lstm_autoencoder.add(LSTM(num_cells, activation='relu', return_sequences=False))\n",
    "lstm_autoencoder.add(RepeatVector(timesteps))\n",
    "# Decoder\n",
    "lstm_autoencoder.add(LSTM(num_cells, activation='relu', return_sequences=True))\n",
    "lstm_autoencoder.add(LSTM(num_cells*4, activation='relu', return_sequences=True))\n",
    "lstm_autoencoder.add(TimeDistributed(Dense(n_features)))\n",
    "\n",
    "lstm_autoencoder.summary()\n",
    "\n",
    "adam = tensorflow.keras.optimizers.Adam(lr)\n",
    "lstm_autoencoder.compile(loss='mse', optimizer=adam)\n",
    "\n",
    "cp = ModelCheckpoint(filepath=\"lstm_autoencoder_classifier.h5\",\n",
    "                               save_best_only=True,\n",
    "                               verbose=0)\n",
    "\n",
    "tb = TensorBoard(log_dir='./logs',\n",
    "                histogram_freq=0,\n",
    "                write_graph=True,\n",
    "                write_images=True)\n",
    "\n",
    "\n",
    "lstm_autoencoder_history = lstm_autoencoder.fit(X_train, X_train, \n",
    "                                                epochs=epochs, \n",
    "                                                batch_size=batch_size, \n",
    "                                                validation_data=(X_valid, X_valid),\n",
    "                                                verbose=2, callbacks = [keras.callbacks.EarlyStopping(monitor='val_loss', min_delta=0, patience=10, verbose=0, mode='auto')]).history\n",
    "                                                \n",
    "plt.plot(lstm_autoencoder_history['loss'], linewidth=2, label='Train')\n",
    "plt.plot(lstm_autoencoder_history['val_loss'], linewidth=2, label='Valid')\n",
    "plt.legend(loc='upper right')\n",
    "plt.title('Model loss')\n",
    "plt.ylabel('Loss')\n",
    "plt.xlabel('Epoch')\n",
    "plt.show()\n"
   ]
  },
  {
   "cell_type": "markdown",
   "metadata": {},
   "source": [
    "## Normalize Train and Test Data"
   ]
  },
  {
   "cell_type": "code",
   "execution_count": 10,
   "metadata": {},
   "outputs": [
    {
     "name": "stdout",
     "output_type": "stream",
     "text": [
      "Predicting...\n"
     ]
    },
    {
     "data": {
      "image/png": "[encoded data removed]",
      "text/plain": [
       "<Figure size 432x288 with 1 Axes>"
      ]
     },
     "metadata": {
      "needs_background": "light"
     },
     "output_type": "display_data"
    },
    {
     "name": "stdout",
     "output_type": "stream",
     "text": [
      "Wall time: 18.2 s\n"
     ]
    }
   ],
   "source": [
    "%%time\n",
    "print(\"Predicting...\")\n",
    "predicted_train = lstm_autoencoder.predict(X_train)\n",
    "predicted = lstm_autoencoder.predict(X_test)\n",
    "#print(\"Reshaping predicted\")\n",
    "#predicted_train = np.reshape(predicted_train, (predicted_train.size,))\n",
    "#predicted = np.reshape(predicted, (predicted.size,))\n",
    "\n",
    "\n",
    "\n",
    "\n",
    "\n",
    "plt.figure()\n",
    "plt.title(\"Actual Test Signal w/Anomalies\")\n",
    "plt.plot(y_train[:len(y_train)], 'b')\n",
    "\n",
    "\n",
    "\n",
    "\n",
    "plt.figure()\n",
    "plt.title(\"Squared Error\")\n",
    "mse = np.mean(np.power(flatten(X_test) - flatten(predicted), 2), axis=1)\n",
    "plt.plot(mse, 'r')\n",
    "mse_train = np.mean(np.power(flatten(X_train) - flatten(predicted_train), 2), axis=1)\n",
    "\n",
    "import matplotlib.pyplot as plt\n",
    "%matplotlib inline\n",
    "plt.figure()\n",
    "plt.title(\"Actual Test Signal with Anomalies\")\n",
    "plt.plot(y_test[:len(y_test)], 'b')\n",
    "plt.savefig('Epoch.png', dpi=1200)\n",
    "plt.show()"
   ]
  },
  {
   "cell_type": "code",
   "execution_count": 11,
   "metadata": {},
   "outputs": [
    {
     "data": {
      "image/png": "[encoded data removed]",
      "text/plain": [
       "<Figure size 648x504 with 1 Axes>"
      ]
     },
     "metadata": {
      "needs_background": "light"
     },
     "output_type": "display_data"
    },
    {
     "name": "stderr",
     "output_type": "stream",
     "text": [
      "C:\\Users\\hp\\anaconda3\\lib\\site-packages\\sklearn\\model_selection\\_search.py:918: UserWarning: One or more of the test scores are non-finite: [         nan 607.56896706 419.87132474 292.14476246 197.00158099\n",
      " 121.63661624  59.38175717   6.40779463 -39.66733019 -80.41997582]\n",
      "  warnings.warn(\n"
     ]
    },
    {
     "name": "stdout",
     "output_type": "stream",
     "text": [
      "best bandwidth: 0.05555555555555555\n",
      "Tau :  0.11278381197247303\n",
      "Precision :  0.9534428794992176\n",
      "Recall:  0.9791080755323424\n",
      "Accuracy :  0.942790230846437\n",
      "F1_score:  0.891412655872071\n"
     ]
    },
    {
     "data": {
      "image/png": "[encoded data removed]",
      "text/plain": [
       "<Figure size 432x288 with 1 Axes>"
      ]
     },
     "metadata": {
      "needs_background": "light"
     },
     "output_type": "display_data"
    }
   ],
   "source": [
    "#KDE\n",
    "def kde_sklearn(x, bandwidth=0.2, **kwargs):\n",
    "\tx_grid = np.linspace(x.min() - 0.9*x.min(), x.max() + x.max(), 500)\n",
    "\t\"\"\"Kernel Density Estimation with Scikit-learn\"\"\"\n",
    "\tkde_skl = KernelDensity(bandwidth=bandwidth, **kwargs)\n",
    "\tkde_skl.fit(x[:, np.newaxis])\n",
    "\t# score_samples() returns the log-likelihood of the samples\n",
    "\tlog_pdf = kde_skl.score_samples(x_grid[:, np.newaxis])\n",
    "\treturn np.exp(log_pdf), x_grid\n",
    "   \n",
    "def FindThreshold(x,h,p):\n",
    "    tau=0\n",
    "    x.sort() \n",
    "    for i in range(len(x)):\n",
    "        int_K = integrate.quad(lambda s: (1/(h*np.sqrt(2*np.pi)))*np.exp(-0.5*(s-p)/h), (i-1)/len(x), i/len(x))\n",
    "        tau=tau+int_K[0]*x[i]\n",
    "    return tau\n",
    "\n",
    "#Plot histogram\n",
    "fig, ax2 = plt.subplots(figsize = (9,7))\n",
    "ax2.hist(mse_train, bins = 100, alpha = 0.5, density = True)\n",
    "\n",
    "#Plot KDE\n",
    "pdf, mse_grid = kde_sklearn(mse, bandwidth = 0.5)\n",
    "pdf2, mse_grid2 = kde_sklearn(mse, bandwidth = 0.1)\n",
    "pdf3, mse_grid3 = kde_sklearn(mse, bandwidth = 0.9)\n",
    "ax2.plot(mse_grid, pdf, alpha = 0.9, color = 'green', linewidth = 2.0)\n",
    "ax2.plot(mse_grid2, pdf2, alpha = 0.9, color = 'red', linewidth = 2.0)\n",
    "ax2.plot(mse_grid3, pdf3, alpha = 0.9, color = 'yellow', linewidth = 2.0)\n",
    "plt.show()\n",
    "\n",
    "# use grid search cross-validation to optimize the bandwidth\n",
    "params = {'bandwidth': np.linspace(0, 0.5, 10)}\n",
    "grid = GridSearchCV(KernelDensity(), params, cv = 20)\n",
    "grid.fit(mse_train[:, None])\n",
    "\n",
    "print(\"best bandwidth: {0}\".format(grid.best_estimator_.bandwidth))\n",
    "h=grid.best_estimator_.bandwidth\n",
    "tau=FindThreshold(mse_train,h,0.56)\n",
    "\n",
    "y_test1=np.ones(X_test.shape[0])\n",
    "y_test1[999:1499]=-1\n",
    "y_scores=np.ones(X_test.shape[0])\n",
    "y_scores[(mse-tau)>0]=-1\n",
    "precision = precision_score(y_test1, y_scores)\n",
    "recall    = recall_score(y_test1, y_scores)\n",
    "accuracy = accuracy_score(y_test1, y_scores)\n",
    "f1 = f1_score(y_test1, y_scores, average='macro')\n",
    "print ('Tau : ', tau)\n",
    "print ('Precision : ', precision)\n",
    "print ('Recall: ', recall)\n",
    "print ('Accuracy : ', accuracy)\n",
    "print ('F1_score: ', f1)\n",
    "fig=plt.figure(4)\n",
    "red_dot, white_cross =plt.plot(mse, 'r--', np.ones(len(mse))*tau, 'b--')\n",
    "plt.xlabel('t')\n",
    "plt.ylabel('Anomaly scores')\n",
    "plt.legend([red_dot, (red_dot, white_cross)], [\"Anomaly scores\", \"Anomaly threshold\"])\n",
    "plt.show()\n",
    "fig.savefig('plot.png', dpi=1200)  \n",
    "\n",
    "\n"
   ]
  },
  {
   "cell_type": "markdown",
   "metadata": {},
   "source": [
    "OCSVM"
   ]
  },
  {
   "cell_type": "code",
   "execution_count": 12,
   "metadata": {},
   "outputs": [
    {
     "name": "stdout",
     "output_type": "stream",
     "text": [
      "Precision :  0.9872\n",
      "Recall:  0.991562876657292\n",
      "Accuracy :  0.9822683171629307\n",
      "F1_score:  0.9678935721276394\n",
      "Wall time: 136 ms\n"
     ]
    }
   ],
   "source": [
    "%%time\n",
    "#OCSVM\n",
    "e=X_train - predicted_train\n",
    "nsamples, nx, ny = e.shape\n",
    "d2_e = e.reshape((nsamples,nx*ny))\n",
    "\n",
    "from sklearn import svm\n",
    "clf = svm.OneClassSVM(nu=0.0055, kernel=\"rbf\", gamma=1.5)\n",
    "clf.fit(d2_e)\n",
    "\n",
    "e_t=X_test - predicted\n",
    "nsamples, nx, ny = e_t.shape\n",
    "d2_e_t = e_t.reshape((nsamples,nx*ny))\n",
    "y_scores = clf.predict(d2_e_t)\n",
    "precision = precision_score(y_test1, y_scores)\n",
    "recall    = recall_score(y_test1, y_scores)\n",
    "accuracy = accuracy_score(y_test1, y_scores)\n",
    "f1 = f1_score(y_test1, y_scores, average='macro')\n",
    "print ('Precision : ', precision)\n",
    "print ('Recall: ', recall)\n",
    "print ('Accuracy : ', accuracy)\n",
    "print ('F1_score: ', f1)\n"
   ]
  },
  {
   "cell_type": "code",
   "execution_count": 13,
   "metadata": {},
   "outputs": [
    {
     "name": "stdout",
     "output_type": "stream",
     "text": [
      "Loading data... \n",
      "wave1 10000\n",
      "wave2 10000\n",
      "wave3 500\n",
      "Length of Data 10000\n",
      "Creating train data...\n",
      "Mean of train data :  -0.0023143809349431264\n",
      "Train data shape  :  (6988, 11)\n",
      "Creating test data...\n",
      "Mean of test data :  -0.0011886460694082693\n",
      "Test data shape  :  (2989, 11)\n",
      "Shape X_train (6988, 10)\n",
      "Shape X_test (2989, 10)\n",
      "\n",
      "Data Loaded. Compiling...\n",
      "\n",
      "Compilation Time :  0.007991552352905273\n",
      "Training...\n",
      "Epoch 1/3\n",
      "133/133 [==============================] - 19s 82ms/step - loss: 0.1507 - val_loss: 0.0514\n",
      "Epoch 2/3\n",
      "133/133 [==============================] - 9s 71ms/step - loss: 0.0515 - val_loss: 0.0347\n",
      "Epoch 3/3\n",
      "133/133 [==============================] - 10s 76ms/step - loss: 0.0462 - val_loss: 0.0380\n",
      "Predicting...\n",
      "Reshaping predicted\n"
     ]
    },
    {
     "name": "stderr",
     "output_type": "stream",
     "text": [
      "C:\\Users\\hp\\anaconda3\\lib\\site-packages\\sklearn\\model_selection\\_search.py:918: UserWarning: One or more of the test scores are non-finite: [         nan 536.61543798 388.38501187 275.68058064 187.08074373\n",
      " 115.0498901   54.70582683   2.92326557 -42.36108807 -82.56301969]\n",
      "  warnings.warn(\n"
     ]
    },
    {
     "name": "stdout",
     "output_type": "stream",
     "text": [
      "best bandwidth: 0.05555555555555555\n"
     ]
    },
    {
     "data": {
      "image/png": "[encoded data removed]",
      "text/plain": [
       "<Figure size 432x288 with 1 Axes>"
      ]
     },
     "metadata": {
      "needs_background": "light"
     },
     "output_type": "display_data"
    },
    {
     "data": {
      "image/png": "[encoded data removed]",
      "text/plain": [
       "<Figure size 432x288 with 1 Axes>"
      ]
     },
     "metadata": {
      "needs_background": "light"
     },
     "output_type": "display_data"
    },
    {
     "name": "stdout",
     "output_type": "stream",
     "text": [
      "Tau :  0.22061267156010883\n",
      "Precision :  0.9227886056971514\n",
      "Recall:  0.9891522699879469\n",
      "Accuracy :  0.9220475075276012\n",
      "F1_score:  0.8355092247166145\n"
     ]
    },
    {
     "data": {
      "text/plain": [
       "(<keras.engine.sequential.Sequential at 0x1930caaedc0>,\n",
       " array([-0.11626825, -0.0808487 , -0.39837722, ..., -0.08395971,\n",
       "        -0.14677785, -0.09585726]),\n",
       " array([-0.12957723, -0.17284414, -0.19141081, ..., -0.05771049,\n",
       "        -0.11410607, -0.18683001], dtype=float32),\n",
       " array([ 1.48499645, -1.57696811,  1.22734993, ...,  1.41472294,\n",
       "         1.05774595, -1.39478149]),\n",
       " array([ 1.6489896, -1.6260813,  1.6327689, ...,  1.3198444,  1.1849064,\n",
       "        -1.6977444], dtype=float32))"
      ]
     },
     "execution_count": 13,
     "metadata": {},
     "output_type": "execute_result"
    }
   ],
   "source": [
    "#Tran et al., 2019\n",
    "\n",
    "def build_model():\n",
    "    model = Sequential()\n",
    "    layers = {'input': 1, 'hidden1': 64, 'hidden2': 256, 'hidden3': 100, 'output': 1}\n",
    "\n",
    "    model.add(LSTM(\n",
    "            input_length=sequence_length - 1,\n",
    "            input_dim=layers['input'],\n",
    "            units=layers['hidden1'],\n",
    "            return_sequences=True))\n",
    "    model.add(Dropout(0.2))\n",
    "\n",
    "    model.add(LSTM(\n",
    "            layers['hidden2'],\n",
    "            return_sequences=True))\n",
    "    model.add(Dropout(0.2))\n",
    "\n",
    "    model.add(LSTM(\n",
    "            layers['hidden3'],\n",
    "            return_sequences=False))\n",
    "    model.add(Dropout(0.2))\n",
    "\n",
    "    model.add(Dense(\n",
    "            units=layers['output']))\n",
    "    model.add(Activation(\"linear\"))\n",
    "\n",
    "    start = time.time()\n",
    "    model.compile(loss=\"mse\", optimizer=\"rmsprop\")\n",
    "    print (\"Compilation Time : \", time.time() - start)\n",
    "    return model\n",
    "\n",
    "#KDE\n",
    "def kde_sklearn(x, bandwidth=0.2, **kwargs):\n",
    "\tx_grid = np.linspace(x.min() - 0.9*x.min(), x.max() + x.max(), 500)\n",
    "\t\"\"\"Kernel Density Estimation with Scikit-learn\"\"\"\n",
    "\tkde_skl = KernelDensity(bandwidth=bandwidth, **kwargs)\n",
    "\tkde_skl.fit(x[:, np.newaxis])\n",
    "\t# score_samples() returns the log-likelihood of the samples\n",
    "\tlog_pdf = kde_skl.score_samples(x_grid[:, np.newaxis])\n",
    "\treturn np.exp(log_pdf), x_grid\n",
    "   \n",
    "def FindThreshold(x,h,p):\n",
    "    tau=0\n",
    "    x.sort() \n",
    "    for i in range(len(x)):\n",
    "        int_K = integrate.quad(lambda s: (1/(h*np.sqrt(2*np.pi)))*np.exp(-0.5*(s-p)/h), (i-1)/len(x), i/len(x))\n",
    "        tau=tau+int_K[0]*x[i]\n",
    "    return tau\n",
    "  \n",
    "def run_network(model=None, data=None):\n",
    "    global_start_time = time.time()\n",
    "\n",
    "    if data is None:\n",
    "        print ('Loading data... ')\n",
    "        # train on first 700 samples and test on next 300 samples (has anomaly)\n",
    "        X_train,y_train, X_test, y_test = get_split_prep_data(0, 6999, 7000, 10000)\n",
    "    else:\n",
    "        X_train, y_train, X_test, y_test = data\n",
    "\n",
    "    print ('\\nData Loaded. Compiling...\\n')\n",
    "\n",
    "    if model is None:\n",
    "        model = build_model()\n",
    "\n",
    "    try:\n",
    "        print(\"Training...\")\n",
    "        model.fit(\n",
    "                X_train, y_train,\n",
    "                batch_size=batch_size, epochs=epochs, validation_split=0.05)\n",
    "        print(\"Predicting...\")\n",
    "        predicted_train = model.predict(X_train)\n",
    "        predicted = model.predict(X_test)\n",
    "        print(\"Reshaping predicted\")\n",
    "        predicted_train = np.reshape(predicted_train, (predicted_train.size,))\n",
    "        predicted = np.reshape(predicted, (predicted.size,))\n",
    "    except KeyboardInterrupt:\n",
    "        print(\"prediction exception\")\n",
    "        print ('Training duration (s) : ', time.time() - global_start_time)\n",
    "        return model, y_test, y_train, 0\n",
    "\n",
    "    try:\n",
    "        mse = ((y_test - predicted) ** 2)\n",
    "        plt.plot(mse, 'r')\n",
    "        mse_train = ((y_train - predicted_train) ** 2)\n",
    "        # use grid search cross-validation to optimize the bandwidth\n",
    "        params = {'bandwidth': np.linspace(0, 0.5, 10)}\n",
    "        grid = GridSearchCV(KernelDensity(), params, cv = 20)\n",
    "        grid.fit(mse_train[:, None])\n",
    "        print(\"best bandwidth: {0}\".format(grid.best_estimator_.bandwidth))\n",
    "        h=grid.best_estimator_.bandwidth\n",
    "        tau=FindThreshold(mse_train,h,0.56)\n",
    "        #tau=max(mse_train)\n",
    "        y_test1=np.ones(len(y_test))\n",
    "        y_test1[999:1499]=-1\n",
    "        y_scores=np.ones(len(y_test))\n",
    "        y_scores[(mse-tau)>0]=-1\n",
    "        \n",
    "        precision = precision_score(y_test1, y_scores)\n",
    "        recall    = recall_score(y_test1, y_scores)\n",
    "        accuracy = accuracy_score(y_test1, y_scores)\n",
    "        f1 = f1_score(y_test1, y_scores, average='macro') \n",
    "     \n",
    "        fig=plt.figure(3)\n",
    "        red_dot, white_cross =plt.plot(mse, 'r--', np.ones(len(mse))*tau, 'b--')\n",
    "        plt.xlabel('t')\n",
    "        plt.ylabel('Anomaly scores')\n",
    "        plt.legend([red_dot, (red_dot, white_cross)], [\"Anomaly scores\", \"Anomaly threshold\"])\n",
    "        plt.show()\n",
    "        fig.savefig('plot.png', dpi=1200)\n",
    "        print ('Tau : ', tau)\n",
    "        print ('Precision : ', precision)\n",
    "        print ('Recall: ', recall)\n",
    "        print ('Accuracy : ', accuracy)\n",
    "        print ('F1_score: ', f1)\n",
    "        \n",
    "    except Exception as e:\n",
    "        print(\"plotting exception\")\n",
    "        print (str(e))\n",
    "        print ('Training duration (s) : ', time.time() - global_start_time)\n",
    "\n",
    "    \n",
    "    \n",
    "    return model, y_test, predicted, y_train, predicted_train\n",
    "\n",
    "run_network()"
   ]
  },
  {
   "cell_type": "code",
   "execution_count": null,
   "metadata": {},
   "outputs": [],
   "source": []
  },
  {
   "cell_type": "code",
   "execution_count": null,
   "metadata": {},
   "outputs": [],
   "source": []
  },
  {
   "cell_type": "code",
   "execution_count": null,
   "metadata": {},
   "outputs": [],
   "source": []
  },
  {
   "cell_type": "code",
   "execution_count": null,
   "metadata": {},
   "outputs": [],
   "source": []
  }
 ],
 "metadata": {
  "kernelspec": {
   "display_name": "Python 3",
   "language": "python",
   "name": "python3"
  },
  "language_info": {
   "codemirror_mode": {
    "name": "ipython",
    "version": 3
   },
   "file_extension": ".py",
   "mimetype": "text/x-python",
   "name": "python",
   "nbconvert_exporter": "python",
   "pygments_lexer": "ipython3",
   "version": "3.8.8"
  }
 },
 "nbformat": 4,
 "nbformat_minor": 4
}
